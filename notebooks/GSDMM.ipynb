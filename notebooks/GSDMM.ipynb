{
 "cells": [
  {
   "cell_type": "code",
   "execution_count": 6,
   "metadata": {},
   "outputs": [],
   "source": [
    "import sys\n",
    "sys.path.append(\"../\")"
   ]
  },
  {
   "cell_type": "code",
   "execution_count": 7,
   "metadata": {},
   "outputs": [],
   "source": [
    "import pickle\n",
    "import numpy as np\n",
    "#import sys\n",
    "#sys.path.append(\"./gsdmm/\")\n",
    "from gsdmm.gsdmm.mgp import *\n",
    "from processing.text_processing import *\n",
    "import string\n",
    "import random"
   ]
  },
  {
   "cell_type": "code",
   "execution_count": 8,
   "metadata": {},
   "outputs": [],
   "source": [
    "with open('../data/selected_3topics_qs.pkl', \"rb\") as file:\n",
    "    collection = pickle.load(file )\n",
    "random.shuffle(collection)"
   ]
  },
  {
   "cell_type": "code",
   "execution_count": 9,
   "metadata": {},
   "outputs": [
    {
     "name": "stdout",
     "output_type": "stream",
     "text": [
      "The corpus contains 289097 total tokens where 21101 are unique\n"
     ]
    }
   ],
   "source": [
    "questions_cls = Corpus(collection)"
   ]
  },
  {
   "cell_type": "code",
   "execution_count": 10,
   "metadata": {},
   "outputs": [
    {
     "name": "stdout",
     "output_type": "stream",
     "text": [
      "The corpus contains 289097 total tokens where 19672 are unique\n"
     ]
    }
   ],
   "source": [
    "question_cls2 = Corpus(collection, lowercase=True)"
   ]
  },
  {
   "cell_type": "code",
   "execution_count": 11,
   "metadata": {},
   "outputs": [
    {
     "name": "stdout",
     "output_type": "stream",
     "text": [
      "The corpus contains 163073 total tokens where 17576 are unique\n"
     ]
    }
   ],
   "source": [
    "question_cls2 = Corpus(collection, lowercase=True, remove_stopwords=True, lemmatize=True)"
   ]
  },
  {
   "cell_type": "code",
   "execution_count": 12,
   "metadata": {},
   "outputs": [
    {
     "name": "stdout",
     "output_type": "stream",
     "text": [
      "The corpus contains 136708 total tokens where 15669 are unique\n"
     ]
    }
   ],
   "source": [
    "question_cls3 = Corpus(collection, lowercase=True, remove_punct=True, remove_stopwords=True, \n",
    "                       lemmatize=True)"
   ]
  },
  {
   "cell_type": "code",
   "execution_count": 27,
   "metadata": {},
   "outputs": [],
   "source": [
    "#uni_len = [samp for i,samp in enumerate(question_cls3.tokenized) if list(question_cls3.lengths)[i] == 1]\n",
    "#uni_len"
   ]
  },
  {
   "cell_type": "code",
   "execution_count": 13,
   "metadata": {},
   "outputs": [],
   "source": [
    "mgp = MovieGroupProcess(K=10, alpha=0.1, beta=0.1, n_iters=30)"
   ]
  },
  {
   "cell_type": "code",
   "execution_count": 14,
   "metadata": {},
   "outputs": [],
   "source": [
    "n_terms = question_cls3.nu_tokens"
   ]
  },
  {
   "cell_type": "code",
   "execution_count": 15,
   "metadata": {},
   "outputs": [
    {
     "name": "stdout",
     "output_type": "stream",
     "text": [
      "In stage 0: transferred 13795 clusters with 10 clusters populated\n",
      "In stage 1: transferred 9554 clusters with 10 clusters populated\n",
      "In stage 2: transferred 6544 clusters with 10 clusters populated\n",
      "In stage 3: transferred 4781 clusters with 10 clusters populated\n",
      "In stage 4: transferred 3567 clusters with 10 clusters populated\n",
      "In stage 5: transferred 3087 clusters with 10 clusters populated\n",
      "In stage 6: transferred 2695 clusters with 10 clusters populated\n",
      "In stage 7: transferred 2541 clusters with 10 clusters populated\n",
      "In stage 8: transferred 2584 clusters with 10 clusters populated\n",
      "In stage 9: transferred 2451 clusters with 10 clusters populated\n",
      "In stage 10: transferred 2349 clusters with 10 clusters populated\n",
      "In stage 11: transferred 2261 clusters with 10 clusters populated\n",
      "In stage 12: transferred 2269 clusters with 10 clusters populated\n",
      "In stage 13: transferred 2174 clusters with 10 clusters populated\n",
      "In stage 14: transferred 2190 clusters with 10 clusters populated\n",
      "In stage 15: transferred 2161 clusters with 10 clusters populated\n",
      "In stage 16: transferred 2109 clusters with 10 clusters populated\n",
      "In stage 17: transferred 2024 clusters with 10 clusters populated\n",
      "In stage 18: transferred 2047 clusters with 10 clusters populated\n",
      "In stage 19: transferred 2020 clusters with 10 clusters populated\n",
      "In stage 20: transferred 1958 clusters with 10 clusters populated\n",
      "In stage 21: transferred 2049 clusters with 10 clusters populated\n",
      "In stage 22: transferred 2057 clusters with 10 clusters populated\n",
      "In stage 23: transferred 2030 clusters with 10 clusters populated\n",
      "In stage 24: transferred 2012 clusters with 10 clusters populated\n",
      "In stage 25: transferred 2004 clusters with 10 clusters populated\n",
      "In stage 26: transferred 2015 clusters with 10 clusters populated\n",
      "In stage 27: transferred 2002 clusters with 10 clusters populated\n",
      "In stage 28: transferred 2029 clusters with 10 clusters populated\n",
      "In stage 29: transferred 2079 clusters with 10 clusters populated\n"
     ]
    }
   ],
   "source": [
    "y = mgp.fit(question_cls3.tokenized, n_terms)"
   ]
  },
  {
   "cell_type": "code",
   "execution_count": 74,
   "metadata": {},
   "outputs": [
    {
     "name": "stdout",
     "output_type": "stream",
     "text": [
      "number of documetns per class: [924, 1827, 1442, 2195, 2711, 1121, 1393, 1494, 2047, 1839]\n",
      "% of documents per class:[ 5.44 10.75  8.49 12.92 15.95  6.6   8.2   8.79 12.05 10.82]\n",
      "most populus classes: [4 3 8 9 1 7 2 6 5 0]\n"
     ]
    }
   ],
   "source": [
    "print(f\"number of documetns per class: {mgp.cluster_doc_count}\")\n",
    "fractions = (np.array(mgp.cluster_doc_count)*100. / sum(mgp.cluster_doc_count))\n",
    "np.set_printoptions(precision=2)\n",
    "print(f\"% of documents per class:{fractions}\")\n",
    "print(f\"most populus classes: {np.array(mgp.cluster_doc_count).argsort()[::-1]}\")"
   ]
  },
  {
   "cell_type": "code",
   "execution_count": 96,
   "metadata": {},
   "outputs": [
    {
     "data": {
      "text/plain": [
       "{'plant': 1354,\n",
       " 'tree': 692,\n",
       " 'flower': 202,\n",
       " 'forest': 160,\n",
       " 'power': 149,\n",
       " 'cell': 149,\n",
       " 'grown': 138,\n",
       " 'green': 136,\n",
       " 'animal': 126,\n",
       " 'water': 118,\n",
       " 'farm': 118,\n",
       " 'much': 98,\n",
       " 'grow': 96,\n",
       " 'wood': 93,\n",
       " 'leaf': 93,\n",
       " 'would': 90,\n",
       " 'seed': 81,\n",
       " 'agriculture': 77,\n",
       " 'make': 76,\n",
       " 'one': 70}"
      ]
     },
     "execution_count": 96,
     "metadata": {},
     "output_type": "execute_result"
    }
   ],
   "source": [
    "dict(sorted(mgp.cluster_word_distribution[4].items(),\n",
    "            key=operator.itemgetter(1), reverse=True)[0:20])"
   ]
  },
  {
   "cell_type": "code",
   "execution_count": 97,
   "metadata": {},
   "outputs": [
    {
     "data": {
      "text/plain": [
       "{'force': 1119,\n",
       " 'velocity': 411,\n",
       " 'momentum': 211,\n",
       " 'friction': 211,\n",
       " 'mechanic': 201,\n",
       " 'entropy': 153,\n",
       " 'quantum': 145,\n",
       " 'acceleration': 143,\n",
       " 'energy': 139,\n",
       " 'gravity': 129,\n",
       " 'mass': 117,\n",
       " 'gravitational': 117,\n",
       " 'object': 112,\n",
       " 'two': 110,\n",
       " 'body': 101,\n",
       " 'difference': 99,\n",
       " 'time': 98,\n",
       " 'particle': 97,\n",
       " 'electron': 89,\n",
       " 'change': 87}"
      ]
     },
     "execution_count": 97,
     "metadata": {},
     "output_type": "execute_result"
    }
   ],
   "source": [
    "dict(sorted(mgp.cluster_word_distribution[3].items(),\n",
    "            key=operator.itemgetter(1), reverse=True)[0:20])"
   ]
  },
  {
   "cell_type": "code",
   "execution_count": 98,
   "metadata": {},
   "outputs": [
    {
     "data": {
      "text/plain": [
       "{'force': 1101,\n",
       " 'green': 377,\n",
       " 'card': 311,\n",
       " 'people': 224,\n",
       " 'u': 220,\n",
       " 'n': 211,\n",
       " 'would': 193,\n",
       " 'planet': 153,\n",
       " 'get': 149,\n",
       " 'like': 137,\n",
       " 'country': 110,\n",
       " 'trump': 109,\n",
       " 'star': 106,\n",
       " '’': 94,\n",
       " 'indian': 91,\n",
       " 'think': 84,\n",
       " 'police': 82,\n",
       " 'take': 80,\n",
       " 'one': 80,\n",
       " 'want': 76}"
      ]
     },
     "execution_count": 98,
     "metadata": {},
     "output_type": "execute_result"
    }
   ],
   "source": [
    "dict(sorted(mgp.cluster_word_distribution[8].items(),\n",
    "            key=operator.itemgetter(1), reverse=True)[0:20])"
   ]
  },
  {
   "cell_type": "code",
   "execution_count": 99,
   "metadata": {},
   "outputs": [
    {
     "data": {
      "text/plain": [
       "{'agriculture': 561,\n",
       " 'mechanic': 265,\n",
       " 'force': 199,\n",
       " 'plant': 183,\n",
       " 'best': 151,\n",
       " 'farm': 150,\n",
       " 'green': 137,\n",
       " 'india': 136,\n",
       " 'forest': 114,\n",
       " 'get': 95,\n",
       " 'quantum': 90,\n",
       " 'indian': 90,\n",
       " 'good': 83,\n",
       " 'engineering': 83,\n",
       " 'bright': 79,\n",
       " 'book': 75,\n",
       " 'star': 68,\n",
       " 'air': 64,\n",
       " 'future': 63,\n",
       " 'job': 62}"
      ]
     },
     "execution_count": 99,
     "metadata": {},
     "output_type": "execute_result"
    }
   ],
   "source": [
    "dict(sorted(mgp.cluster_word_distribution[9].items(),\n",
    "            key=operator.itemgetter(1), reverse=True)[0:20])"
   ]
  },
  {
   "cell_type": "code",
   "execution_count": null,
   "metadata": {},
   "outputs": [],
   "source": []
  },
  {
   "cell_type": "code",
   "execution_count": null,
   "metadata": {},
   "outputs": [],
   "source": []
  },
  {
   "cell_type": "code",
   "execution_count": null,
   "metadata": {},
   "outputs": [],
   "source": []
  }
 ],
 "metadata": {
  "kernelspec": {
   "display_name": "Python 3",
   "language": "python",
   "name": "python3"
  },
  "language_info": {
   "codemirror_mode": {
    "name": "ipython",
    "version": 3
   },
   "file_extension": ".py",
   "mimetype": "text/x-python",
   "name": "python",
   "nbconvert_exporter": "python",
   "pygments_lexer": "ipython3",
   "version": "3.7.2"
  }
 },
 "nbformat": 4,
 "nbformat_minor": 4
}
